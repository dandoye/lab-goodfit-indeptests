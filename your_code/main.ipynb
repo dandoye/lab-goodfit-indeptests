{
 "cells": [
  {
   "cell_type": "markdown",
   "metadata": {},
   "source": [
    "## Question 1\n",
    "The following table indicates the number of 6-point scores in an American rugby match in the 1979 season.\n",
    "\n",
    "![](table1.png)\n",
    "\n",
    "Based on these results, we create a Poisson distribution with the sample mean parameter  = 2.435. Is there any reason to believe that at a .05 level the number of scores is a Poisson variable?"
   ]
  },
  {
   "cell_type": "code",
   "execution_count": 3,
   "metadata": {},
   "outputs": [
    {
     "name": "stdout",
     "output_type": "stream",
     "text": [
      "p-value: 0.48368890685372257\n",
      "chi-2: 6.491310681109862\n",
      "critical value: 12.591587243743977\n"
     ]
    }
   ],
   "source": [
    "from scipy.stats import poisson\n",
    "from scipy.stats import chi2\n",
    "from scipy.stats import chisquare\n",
    "mu = 2.435\n",
    "observed = [35,99,104,110,62,25,10,3]\n",
    "expected = [(poisson.pmf(x, mu) * 448) for x in range(len(observed) - 1)]\n",
    "expected.append(448 - sum(expected))\n",
    "\n",
    "n = len(observed)\n",
    "alpha = 0.05\n",
    "dof = n - 2 # n - 1 - parameters (here we only estimate one parameter, the mean, so just -1)\n",
    "\n",
    "p_value = chisquare(observed, f_exp = expected)[1]\n",
    "chi_2 = chisquare(observed, f_exp = expected)[0]\n",
    "critical_value = chi2.ppf(q = 1-alpha, df = dof)\n",
    "\n",
    "print('p-value: ' + str(p_value))\n",
    "print('chi-2: ' + str(chi_2))\n",
    "print('critical value: ' + str(critical_value))"
   ]
  },
  {
   "cell_type": "code",
   "execution_count": 4,
   "metadata": {},
   "outputs": [
    {
     "data": {
      "text/plain": [
       "6.491310681109861"
      ]
     },
     "execution_count": 4,
     "metadata": {},
     "output_type": "execute_result"
    }
   ],
   "source": [
    "# chi-squared - the lower it is the more closely related\n",
    "from math import pow\n",
    "sum(pow(expected[x] - observed[x],2) / expected[x] for x in range(len(observed)))"
   ]
  },
  {
   "cell_type": "markdown",
   "metadata": {},
   "source": [
    "- The p-value is higher than 0.05 so we do not reject the null hypothesis and can assume it is equal to what we we're testing against - poisson."
   ]
  },
  {
   "cell_type": "markdown",
   "metadata": {},
   "source": [
    "## Question 2\n",
    "The following are the ordered values of a random sample of SAT scores (university entrance exam) for several students: 852, 875, 910, 933, 957, 963, 981, 998, 1010, 1015, 1018, 1023, 1035, 1048, 1063. In previous years, the scores were presented by N (985,50). Based on the sample, is there any reason to believe that there has been a change in the distribution of scores this year? Use the level alpha = 0.05. "
   ]
  },
  {
   "cell_type": "code",
   "execution_count": 5,
   "metadata": {},
   "outputs": [
    {
     "data": {
      "text/plain": [
       "Power_divergenceResult(statistic=116.66726447173679, pvalue=2.8211923789642365e-18)"
      ]
     },
     "execution_count": 5,
     "metadata": {},
     "output_type": "execute_result"
    }
   ],
   "source": [
    "from scipy.stats import kstest\n",
    "from scipy.stats import norm\n",
    "\n",
    "mu = 985\n",
    "s = 50\n",
    "\n",
    "observed = [852, 875, 910, 933, 957, 963, 981, 998, 1010, 1015, 1018, 1023, 1035, 1048, 1063]\n",
    "expected = norm.rvs(loc = mu, scale = s, size = len(observed))\n",
    "\n",
    "chisquare(observed, f_exp = expected)"
   ]
  },
  {
   "cell_type": "markdown",
   "metadata": {},
   "source": [
    "### your answer here\n",
    "- The p-value is below 0.05, very close to 0 so we reject the null hypothesis that the distribution is normal, and assume it's different from last year."
   ]
  },
  {
   "cell_type": "markdown",
   "metadata": {},
   "source": [
    "## Question 3\n",
    "Let's analyze a discrete distribution. To analyze the number of defective items in a factory in the city of Medellín, we took a random sample of n = 60 articles and observed the number of defectives in the following table:\n",
    "\n",
    "![](table4.png)\n",
    "\n",
    "A poissón distribution was proposed since it is defined for x = 0,1,2,3, .... using the following model:\n",
    "\n",
    "![](image1.png)\n",
    "\n",
    "Does the distribution of defective items follow this distribution?"
   ]
  },
  {
   "cell_type": "code",
   "execution_count": 6,
   "metadata": {},
   "outputs": [
    {
     "data": {
      "text/plain": [
       "Power_divergenceResult(statistic=6.3034965141828545, pvalue=0.09774272956839174)"
      ]
     },
     "execution_count": 6,
     "metadata": {},
     "output_type": "execute_result"
    }
   ],
   "source": [
    "# your code here\n",
    "n = 60\n",
    "defect = [0,1,3,4]\n",
    "observed = [32, 15, 9, 4]\n",
    "mu = sum([defect[x]*observed[x] for x in range(len(observed))]) / n\n",
    "expected = [(poisson.pmf(x, mu) * n) for x in range(len(observed))]\n",
    "\n",
    "chisquare(observed, f_exp = expected)"
   ]
  },
  {
   "cell_type": "markdown",
   "metadata": {},
   "source": [
    "- The p-value is above 0.05 so we will not reject the null hypothesis that the distributions are the same."
   ]
  },
  {
   "cell_type": "markdown",
   "metadata": {},
   "source": [
    "## Question 4\n",
    "A quality control engineer takes a sample of 10 tires that come out of an assembly line, and would like to verify on the basis of the data that follows, if the number of tires with defects observed over 200 days, if it is true that 5% of all tires have defects (that is, if the sample comes from a binomial population with n = 10 and p = 0.05). \n",
    "\n",
    "![](table6.png)\n"
   ]
  },
  {
   "cell_type": "code",
   "execution_count": 8,
   "metadata": {},
   "outputs": [
    {
     "data": {
      "text/plain": [
       "Power_divergenceResult(statistic=8.306179519542717, pvalue=0.01571578339595159)"
      ]
     },
     "execution_count": 8,
     "metadata": {},
     "output_type": "execute_result"
    }
   ],
   "source": [
    "from scipy.stats import binom\n",
    "\n",
    "n = 10\n",
    "p = 0.05\n",
    "observed = [138, 53, 9]\n",
    "expected = [(binom.pmf(x, n, p)*200) for x in range(len(observed) - 1)]\n",
    "expected.append(200 - sum(expected))\n",
    "#se = math.sqrt((p * (1 - p)) / n)\n",
    "\n",
    "chisquare(observed, f_exp = expected)"
   ]
  },
  {
   "cell_type": "markdown",
   "metadata": {},
   "source": [
    "### your answer here\n",
    "- The p-value is 1.5% so at a 5% significance level we reject the null hypothesis that the level of defects is 5% and accept that it may be lower.\n",
    "- If the significance level is 1% however we cannot assume it's lower."
   ]
  },
  {
   "cell_type": "markdown",
   "metadata": {},
   "source": [
    "## Question 5\n",
    "A researcher gathers information about the patterns of physical activity (AF) of children in the fifth grade of primary school of a public school. He defines three categories of physical activity (1 = Low, 2 = Medium, 3 = High). He also inquires about the regular consumption of sugary drinks at school, and defines two categories (1 = consumed, 0 = not consumed). We would like to evaluate if there is an association between patterns of physical activity and the consumption of sugary drinks for the children of this school, at a level of 5% significance. The results are in the following table: \n",
    "\n",
    "![](table5.png)"
   ]
  },
  {
   "cell_type": "code",
   "execution_count": 9,
   "metadata": {},
   "outputs": [
    {
     "data": {
      "text/plain": [
       "0.004719280137040844"
      ]
     },
     "execution_count": 9,
     "metadata": {},
     "output_type": "execute_result"
    }
   ],
   "source": [
    "#your answer here\n",
    "import pandas as pd\n",
    "import numpy as np\n",
    "from scipy.stats import chi2_contingency\n",
    "\n",
    "af = ['baja' , 'media', 'alta']\n",
    "si = [32, 14, 6]\n",
    "no = [12, 22, 9]\n",
    "\n",
    "d = {'af': af, 'si': si, 'no': no}\n",
    "ds = pd.DataFrame(d).set_index('af')\n",
    "\n",
    "chi2_contingency(ds)[1]"
   ]
  },
  {
   "cell_type": "markdown",
   "metadata": {},
   "source": [
    "- The p-value is very small under 5% so we reject the null hypothesis that they are independant and can conclude that there is an association with the activity level and consumption of sugary drinks."
   ]
  }
 ],
 "metadata": {
  "kernelspec": {
   "display_name": "Python 3",
   "language": "python",
   "name": "python3"
  },
  "language_info": {
   "codemirror_mode": {
    "name": "ipython",
    "version": 3
   },
   "file_extension": ".py",
   "mimetype": "text/x-python",
   "name": "python",
   "nbconvert_exporter": "python",
   "pygments_lexer": "ipython3",
   "version": "3.7.3"
  }
 },
 "nbformat": 4,
 "nbformat_minor": 2
}
